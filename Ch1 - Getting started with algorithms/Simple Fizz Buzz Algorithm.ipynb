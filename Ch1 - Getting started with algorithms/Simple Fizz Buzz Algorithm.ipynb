{
 "cells": [
  {
   "cell_type": "markdown",
   "metadata": {},
   "source": [
    "# Simple Fizz Buzz Algorithm\n",
    "Fizz and Buzz refer to any number that's a multiple of 3 and 5 respectively. <br>\n",
    "In other words, <br>\n",
    "* if a number is divisible by 3, it is substituted with fizz\n",
    "* if a number is divisible by 5, it is substituted with buzz \n",
    "* If a number is simultaneously a multiple of 3 AND 5, the number is replaced with \"fizz buzz.\"<br>\n",
    "In essence, it emulates the famous children game\n",
    "\"fizz buzz\"."
   ]
  },
  {
   "cell_type": "code",
   "execution_count": 35,
   "metadata": {},
   "outputs": [
    {
     "name": "stdout",
     "output_type": "stream",
     "text": [
      "number is 13\n",
      "13\n"
     ]
    }
   ],
   "source": [
    "import random as r\n",
    "input = r.randint(0,100)\n",
    "print(\"number is \" + str(input))\n",
    "\n",
    "if input % 15 == 0:     # least common multiple of 3 and 5 is 3*5 = 15\n",
    "    print(\"fizz buzz\")\n",
    "elif input % 3 == 0:\n",
    "    print(\"fizz\")\n",
    "elif input % 5 == 0:\n",
    "    print(\"buzz\")\n",
    "else :\n",
    "    print(input)\n"
   ]
  }
 ],
 "metadata": {
  "kernelspec": {
   "display_name": "Python 3",
   "language": "python",
   "name": "python3"
  },
  "language_info": {
   "codemirror_mode": {
    "name": "ipython",
    "version": 3
   },
   "file_extension": ".py",
   "mimetype": "text/x-python",
   "name": "python",
   "nbconvert_exporter": "python",
   "pygments_lexer": "ipython3",
   "version": "3.11.5"
  },
  "orig_nbformat": 4
 },
 "nbformat": 4,
 "nbformat_minor": 2
}
