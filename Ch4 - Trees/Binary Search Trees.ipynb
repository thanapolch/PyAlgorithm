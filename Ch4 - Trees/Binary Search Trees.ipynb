{
 "cells": [
  {
   "cell_type": "markdown",
   "metadata": {},
   "source": [
    "#### Typical anary tree representation\n",
    "Typically we represent an anary tree (one with potentially unlimited children per node) as a binary tree, (one with\n",
    "exactly two children per node). The \"next\" child is regarded as a sibling. Note that if a tree is binary, this\n",
    "representation creates extra nodes.\n",
    "\n",
    "![Alt text](image.png)\n"
   ]
  },
  {
   "cell_type": "code",
   "execution_count": 231,
   "metadata": {},
   "outputs": [],
   "source": [
    "class Node:\n",
    "    def __init__(self, val):\n",
    "        self.l_child = None\n",
    "        self.r_child = None\n",
    "        self.data = val\n",
    "\n",
    "def insert(root, node):\n",
    "    if root is None:\n",
    "        root = node\n",
    "    else:\n",
    "        if root.data > node.data:\n",
    "            if root.l_child is None:\n",
    "                root.l_child = node\n",
    "            else:\n",
    "                insert(root.l_child, node)\n",
    "        else:\n",
    "            if root.r_child is None:\n",
    "                root.r_child = node\n",
    "            else:\n",
    "                insert(root.r_child, node)\n",
    "\n",
    "def in_order_print(root):\n",
    "    if not root:\n",
    "        return\n",
    "    in_order_print(root.l_child)\n",
    "    print(root.data)\n",
    "    in_order_print(root.r_child)\n"
   ]
  },
  {
   "cell_type": "markdown",
   "metadata": {},
   "source": [
    "#### Binary Search Tree - Deletion\n",
    "Before starting with deletion I just want to put some lights on what is a Binary search tree(BST), Each node in a BST\n",
    "can have maximum of two nodes(left and right child).The left sub-tree of a node has a key less than or equal to its\n",
    "parent node's key. The right sub-tree of a node has a key greater than to its parent node's key.\n",
    "Deleting a node in a tree while maintaining its <strong> Binary search tree property </strong>\n",
    "\n",
    "![Alt text](image-1.png)\n",
    "\n",
    "* Case 1: Node to be deleted is the leaf node.(Node with value 22).\n",
    "* Case 2: Node to be deleted has one child.(Node with value 26).\n",
    "* Case 3: Node to be deleted has both children.(Node with value 49)."
   ]
  },
  {
   "cell_type": "code",
   "execution_count": 229,
   "metadata": {},
   "outputs": [
    {
     "name": "stdout",
     "output_type": "stream",
     "text": [
      "22\n",
      "24\n",
      "26\n",
      "30\n",
      "46\n",
      "47\n",
      "49\n",
      "80\n",
      "90\n"
     ]
    }
   ],
   "source": [
    "# For create tree like a quit\n",
    "root2 = Node(46)\n",
    "insert(root2,Node(24))\n",
    "insert(root2,Node(49))\n",
    "\n",
    "insert(root2,Node(22))\n",
    "insert(root2,Node(26))\n",
    "insert(root2,Node(30))\n",
    "\n",
    "insert(root2,Node(90))\n",
    "insert(root2,Node(47))\n",
    "insert(root2,Node(80))\n",
    "\n",
    "in_order_print(root2)\n"
   ]
  },
  {
   "cell_type": "code",
   "execution_count": 232,
   "metadata": {},
   "outputs": [
    {
     "name": "stdout",
     "output_type": "stream",
     "text": [
      "22\n",
      "24\n",
      "26\n",
      "30\n",
      "46\n",
      "47\n",
      "49\n",
      "80\n",
      "90\n"
     ]
    }
   ],
   "source": [
    "# For create tree like a quit\n",
    "root = None\n",
    "\n",
    "root = Node(46)\n",
    "insert(root,Node(24))\n",
    "insert(root,Node(49))\n",
    "\n",
    "insert(root,Node(22))\n",
    "insert(root,Node(26))\n",
    "insert(root,Node(30))\n",
    "\n",
    "insert(root,Node(90))\n",
    "insert(root,Node(47))\n",
    "insert(root,Node(80))\n",
    "\n",
    "in_order_print(root)\n"
   ]
  },
  {
   "cell_type": "code",
   "execution_count": 233,
   "metadata": {},
   "outputs": [],
   "source": [
    "def node_deleted(root,data):\n",
    "    if root.data == data:                                   # case data matched\n",
    "        if root.l_child == None and root.r_child == None:   # case no child\n",
    "            root = None\n",
    "        else:\n",
    "            if root.l_child != None and root.r_child != None:\n",
    "                if root.l_child.data < root.r_child.data:   # case l_child > r_child\n",
    "                    root.data = root.l_child.data\n",
    "                    root.l_child = None\n",
    "                else:                                       # case l_child > r_child\n",
    "                    root.data = root.r_child.data \n",
    "                    root.r_child = None\n",
    "            elif root.l_child != None:                      # case l_child only\n",
    "                root.data = root.l_child.data\n",
    "                root.l_child = None\n",
    "            else:                                           # case r_child only\n",
    "                root.data = root.r_child.data\n",
    "                root.r_child = None\n",
    "    else:\n",
    "        if root.l_child != None:                                # check in l_child\n",
    "            root.l_child = node_deleted(root.l_child,data)\n",
    "        if root.r_child != None:                                # check in r_child\n",
    "            root.r_child = node_deleted(root.r_child,data)\n",
    "    \n",
    "    return root\n",
    "\n",
    "    "
   ]
  },
  {
   "cell_type": "code",
   "execution_count": 234,
   "metadata": {},
   "outputs": [
    {
     "name": "stdout",
     "output_type": "stream",
     "text": [
      "Case 1 : remove node 22 (node without child)\n",
      "24\n",
      "26\n",
      "30\n",
      "46\n",
      "47\n",
      "49\n",
      "80\n",
      "90\n"
     ]
    }
   ],
   "source": [
    "print(\"Case 1 : remove node 22 (node without child)\")\n",
    "root = node_deleted(root,22)\n",
    "in_order_print(root)"
   ]
  },
  {
   "cell_type": "code",
   "execution_count": 235,
   "metadata": {},
   "outputs": [
    {
     "name": "stdout",
     "output_type": "stream",
     "text": [
      "Case 2 : remove node 26 (node with 1 child)\n",
      "24\n",
      "30\n",
      "46\n",
      "47\n",
      "49\n",
      "80\n",
      "90\n"
     ]
    }
   ],
   "source": [
    "print(\"Case 2 : remove node 26 (node with 1 child)\")\n",
    "root = node_deleted(root,26)\n",
    "in_order_print(root)\n"
   ]
  },
  {
   "cell_type": "code",
   "execution_count": 237,
   "metadata": {},
   "outputs": [
    {
     "name": "stdout",
     "output_type": "stream",
     "text": [
      "Case 3 : remove node 49 (node with 2 childs)\n",
      "24\n",
      "30\n",
      "46\n",
      "47\n",
      "80\n",
      "90\n"
     ]
    }
   ],
   "source": [
    "print(\"Case 3 : remove node 49 (node with 2 childs)\")\n",
    "root = node_deleted(root,49)\n",
    "in_order_print(root)"
   ]
  },
  {
   "cell_type": "markdown",
   "metadata": {},
   "source": [
    "#### Final answer should be like this\n",
    "\n",
    "![Alt text](image-2.png)\n",
    "\n",
    "Let check."
   ]
  },
  {
   "cell_type": "code",
   "execution_count": 244,
   "metadata": {},
   "outputs": [
    {
     "name": "stdout",
     "output_type": "stream",
     "text": [
      "80\n"
     ]
    },
    {
     "ename": "TypeError",
     "evalue": "object of type 'Node' has no len()",
     "output_type": "error",
     "traceback": [
      "\u001b[1;31m---------------------------------------------------------------------------\u001b[0m",
      "\u001b[1;31mTypeError\u001b[0m                                 Traceback (most recent call last)",
      "\u001b[1;32md:\\Python\\PyAlgorithm\\Ch4 - Trees\\Binary Search Trees.ipynb Cell 11\u001b[0m line \u001b[0;36m5\n\u001b[0;32m      <a href='vscode-notebook-cell:/d%3A/Python/PyAlgorithm/Ch4%20-%20Trees/Binary%20Search%20Trees.ipynb#X14sZmlsZQ%3D%3D?line=0'>1</a>\u001b[0m \u001b[39m#in_order_print(root)\u001b[39;00m\n\u001b[0;32m      <a href='vscode-notebook-cell:/d%3A/Python/PyAlgorithm/Ch4%20-%20Trees/Binary%20Search%20Trees.ipynb#X14sZmlsZQ%3D%3D?line=2'>3</a>\u001b[0m \u001b[39mprint\u001b[39m(root\u001b[39m.\u001b[39mr_child\u001b[39m.\u001b[39mr_child\u001b[39m.\u001b[39ml_child\u001b[39m.\u001b[39mdata)\n\u001b[1;32m----> <a href='vscode-notebook-cell:/d%3A/Python/PyAlgorithm/Ch4%20-%20Trees/Binary%20Search%20Trees.ipynb#X14sZmlsZQ%3D%3D?line=4'>5</a>\u001b[0m \u001b[39mprint\u001b[39m(\u001b[39mlen\u001b[39;49m(root))\n",
      "\u001b[1;31mTypeError\u001b[0m: object of type 'Node' has no len()"
     ]
    }
   ],
   "source": [
    "#in_order_print(root)\n",
    "\n",
    "print(root.r_child.r_child.l_child.data)\n"
   ]
  },
  {
   "cell_type": "markdown",
   "metadata": {},
   "source": [
    "#### Algorithm to check if a given binary tree is BST\n",
    "\n",
    "1. It is empty\n",
    "2. It has no subtrees\n",
    "3. For every node x in the tree all the keys (if any) in the left sub tree must be less than key(x) and all the keys (if\n",
    "any) in the right sub tree must be greater than key(x)."
   ]
  },
  {
   "cell_type": "code",
   "execution_count": 281,
   "metadata": {},
   "outputs": [],
   "source": [
    "def find_max_key(root):\n",
    "    if root == None:\n",
    "        return 0\n",
    "    else:\n",
    "        l_data = find_max_key(root.l_child)\n",
    "        r_data = find_max_key(root.r_child)\n",
    "        if root.data > l_data and root.data > r_data:\n",
    "            return root.data\n",
    "        else :\n",
    "            return l_data if l_data > r_data else r_data\n",
    "\n",
    "\n",
    "def find_min_key(root):\n",
    "    if root == None:\n",
    "        return 10000000\n",
    "    else:\n",
    "        l_data = find_min_key(root.l_child)\n",
    "        r_data = find_min_key(root.r_child)\n",
    "        if root.data < l_data and root.data < r_data:\n",
    "            return root.data\n",
    "        else :\n",
    "            return l_data if l_data < r_data else r_data\n",
    "\n",
    "def is_BST(root):\n",
    "\n",
    "    if root == None:\n",
    "        return True\n",
    "    max_key_in_left = find_max_key(root.l_child)\n",
    "    min_key_in_right = find_min_key(root.r_child)\n",
    "    print(min_key_in_right)\n",
    "    print(max_key_in_left)\n",
    "    if root.l_child != None:\n",
    "        if max_key_in_left != 0 and max_key_in_left < root.l_child.data:\n",
    "            print(\"MAX break \"+str(root.l_child.data))\n",
    "            return False\n",
    "        \n",
    "    if root.r_child != None:\n",
    "        if min_key_in_right < root.r_child.data:\n",
    "            print(\"MIN break \"+str(root.r_child.data))\n",
    "            return False\n",
    "        \n",
    "    return is_BST(root.l_child) and is_BST(root.r_child)"
   ]
  },
  {
   "cell_type": "code",
   "execution_count": 282,
   "metadata": {},
   "outputs": [
    {
     "name": "stdout",
     "output_type": "stream",
     "text": [
      "47\n",
      "30\n",
      "30\n",
      "0\n",
      "10000000\n",
      "0\n",
      "80\n",
      "0\n",
      "MIN break90\n",
      "False\n",
      "24\n",
      "30\n",
      "46\n",
      "47\n",
      "80\n",
      "90\n"
     ]
    }
   ],
   "source": [
    "print(is_BST(root))\n",
    "\n",
    "in_order_print(root)"
   ]
  }
 ],
 "metadata": {
  "kernelspec": {
   "display_name": "Python 3",
   "language": "python",
   "name": "python3"
  },
  "language_info": {
   "codemirror_mode": {
    "name": "ipython",
    "version": 3
   },
   "file_extension": ".py",
   "mimetype": "text/x-python",
   "name": "python",
   "nbconvert_exporter": "python",
   "pygments_lexer": "ipython3",
   "version": "3.11.5"
  },
  "orig_nbformat": 4
 },
 "nbformat": 4,
 "nbformat_minor": 2
}
